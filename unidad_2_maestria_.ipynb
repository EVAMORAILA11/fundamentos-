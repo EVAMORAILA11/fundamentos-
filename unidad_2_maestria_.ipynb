{
  "nbformat": 4,
  "nbformat_minor": 0,
  "metadata": {
    "colab": {
      "provenance": [],
      "authorship_tag": "ABX9TyMpFaaY5bQms1HpzkL/EsaF",
      "include_colab_link": true
    },
    "kernelspec": {
      "name": "python3",
      "display_name": "Python 3"
    },
    "language_info": {
      "name": "python"
    }
  },
  "cells": [
    {
      "cell_type": "markdown",
      "metadata": {
        "id": "view-in-github",
        "colab_type": "text"
      },
      "source": [
        "<a href=\"https://colab.research.google.com/github/EVAMORAILA11/fundamentos-/blob/main/unidad_2_maestria_.ipynb\" target=\"_parent\"><img src=\"https://colab.research.google.com/assets/colab-badge.svg\" alt=\"Open In Colab\"/></a>"
      ]
    },
    {
      "cell_type": "code",
      "source": [
        "a = float(input(\"Valor de a: \"))\n",
        "b = float(input(\"Valor de b: \"))\n",
        "\n",
        "x = -b / a\n",
        "print(f\"Solución: {x}\")\n"
      ],
      "metadata": {
        "colab": {
          "base_uri": "https://localhost:8080/"
        },
        "id": "xOWvpsPQFGDd",
        "outputId": "7e4ffccc-2ecf-4e1e-a1ea-1756befdd421"
      },
      "execution_count": null,
      "outputs": [
        {
          "output_type": "stream",
          "name": "stdout",
          "text": [
            "Valor de a: 10\n",
            "Valor de b: 5\n",
            "Solución: -0.5\n"
          ]
        }
      ]
    },
    {
      "cell_type": "markdown",
      "source": [
        "**texto en negrita**#Solucion"
      ],
      "metadata": {
        "id": "4_2KlR8OJR6T"
      }
    },
    {
      "cell_type": "code",
      "source": [
        "a = float(input(\"Valor de a: \"))\n",
        "b = float(input(\"Valor de b: \"))\n",
        "\n",
        "if a != 0:\n",
        "    x = -b / a\n",
        "    print(f\"Solución: {x}\")\n",
        "else:\n",
        "    if b != 0:\n",
        "        print(\"La división entre cero no está definida\")\n",
        "    else:\n",
        "        print(\"La ecuación tiene infinitas soluciones\")"
      ],
      "metadata": {
        "colab": {
          "base_uri": "https://localhost:8080/"
        },
        "id": "h5Nb3a4PJXIe",
        "outputId": "01a87695-30dd-412d-ddd2-7c737f008770"
      },
      "execution_count": null,
      "outputs": [
        {
          "output_type": "stream",
          "name": "stdout",
          "text": [
            "Valor de a: 10\n",
            "Valor de b: 5\n",
            "Solución: -0.5\n"
          ]
        }
      ]
    },
    {
      "cell_type": "code",
      "source": [
        "a = 10\n",
        "b = 0\n",
        "c=a/b if b!=0 else -1\n",
        "print(c)"
      ],
      "metadata": {
        "id": "KWlIDBSYSh76"
      },
      "execution_count": null,
      "outputs": []
    },
    {
      "cell_type": "markdown",
      "source": [
        "# CICLO FOR"
      ],
      "metadata": {
        "id": "A__3Ghtgaelq"
      }
    },
    {
      "cell_type": "markdown",
      "source": [],
      "metadata": {
        "id": "fRDUwnyyaiIf"
      }
    },
    {
      "cell_type": "code",
      "source": [
        "for cont in range(0, 6, 1):\n",
        "    print(f\"valor del contador {cont}\")\n",
        "print(\"fin del ciclo\")"
      ],
      "metadata": {
        "colab": {
          "base_uri": "https://localhost:8080/"
        },
        "id": "-y_mnL2EbNRE",
        "outputId": "5276df6a-30dd-4e58-f00c-a98ae4f10e5c"
      },
      "execution_count": null,
      "outputs": [
        {
          "output_type": "stream",
          "name": "stdout",
          "text": [
            "valor del contador 0\n",
            "valor del contador 1\n",
            "valor del contador 2\n",
            "valor del contador 3\n",
            "valor del contador 4\n",
            "valor del contador 5\n",
            "fin del ciclo\n"
          ]
        }
      ]
    },
    {
      "cell_type": "markdown",
      "source": [
        "#Usando instance"
      ],
      "metadata": {
        "id": "cJ29ayBOdHME"
      }
    },
    {
      "cell_type": "code",
      "source": [
        "from collections.abc import Iterable\n",
        "\n",
        "lista = [1, 2, 3]\n",
        "cadena = \"python\"\n",
        "numero = 10\n",
        "conjunto = {\"Platano\", \"Manzana\", \"Cereza\"}\n",
        "\n",
        "print(isinstance(lista, Iterable))     # True\n",
        "print(isinstance(cadena, Iterable))   # True\n",
        "print(isinstance(numero, Iterable))   # False\n",
        "print(isinstance(conjunto, Iterable)) # True\n",
        "\n",
        "for caracter in cadena:\n",
        "  print(caracter)\n"
      ],
      "metadata": {
        "colab": {
          "base_uri": "https://localhost:8080/"
        },
        "id": "-qLmIV9PdTRW",
        "outputId": "9256cd8c-7a5d-4fe3-a4a6-b0be236a61a7"
      },
      "execution_count": null,
      "outputs": [
        {
          "output_type": "stream",
          "name": "stdout",
          "text": [
            "True\n",
            "True\n",
            "False\n",
            "True\n",
            "p\n",
            "y\n",
            "t\n",
            "h\n",
            "o\n",
            "n\n"
          ]
        }
      ]
    },
    {
      "cell_type": "markdown",
      "source": [
        "#Usando 3 listas"
      ],
      "metadata": {
        "id": "W0Ob_4jkgv-l"
      }
    },
    {
      "cell_type": "code",
      "source": [
        "matriz = [56, 34, 1], [12, 4, 5], [9,4,3]\n",
        "print(matriz)\n",
        "\n",
        "for i in matriz:\n",
        "  print(i)\n",
        "\n",
        "  for i in matriz:\n",
        "    for j in i:\n",
        "      print(j)\n"
      ],
      "metadata": {
        "colab": {
          "base_uri": "https://localhost:8080/"
        },
        "id": "73rZXX9nh10A",
        "outputId": "1f0fb1a1-3153-4986-b612-5566c48372f5"
      },
      "execution_count": null,
      "outputs": [
        {
          "output_type": "stream",
          "name": "stdout",
          "text": [
            "([56, 34, 1], [12, 4, 5], [9, 4, 3])\n",
            "[56, 34, 1]\n",
            "56\n",
            "34\n",
            "1\n",
            "12\n",
            "4\n",
            "5\n",
            "9\n",
            "4\n",
            "3\n",
            "[12, 4, 5]\n",
            "56\n",
            "34\n",
            "1\n",
            "12\n",
            "4\n",
            "5\n",
            "9\n",
            "4\n",
            "3\n",
            "[9, 4, 3]\n",
            "56\n",
            "34\n",
            "1\n",
            "12\n",
            "4\n",
            "5\n",
            "9\n",
            "4\n",
            "3\n"
          ]
        }
      ]
    },
    {
      "cell_type": "markdown",
      "source": [
        "#Usando While"
      ],
      "metadata": {
        "id": "dDIHnwnjjvsf"
      }
    },
    {
      "cell_type": "code",
      "source": [
        "x = 0\n",
        "while x < 6:\n",
        "    print(f\"valor de contador {x}\")\n",
        "    x += 1\n",
        "\n",
        "print(\"fin del ciclo\")"
      ],
      "metadata": {
        "colab": {
          "base_uri": "https://localhost:8080/"
        },
        "id": "1eYue_psk_jl",
        "outputId": "cca70a04-948e-4247-c93e-aefaed68d74e"
      },
      "execution_count": null,
      "outputs": [
        {
          "output_type": "stream",
          "name": "stdout",
          "text": [
            "valor de contador 0\n",
            "valor de contador 1\n",
            "valor de contador 2\n",
            "valor de contador 3\n",
            "valor de contador 4\n",
            "valor de contador 5\n",
            "fin del ciclo\n"
          ]
        }
      ]
    },
    {
      "cell_type": "markdown",
      "source": [
        "#While+listas"
      ],
      "metadata": {
        "id": "bqJf9vDkm5mc"
      }
    },
    {
      "cell_type": "code",
      "source": [
        "x = list (\"evaconsuelomorailalopez\")\n",
        "while x:\n",
        " x.pop(0)\n",
        " print(x)\n",
        "\n"
      ],
      "metadata": {
        "colab": {
          "base_uri": "https://localhost:8080/"
        },
        "id": "a-Ggv47-oIIr",
        "outputId": "b0e1f251-5d77-4995-c5b8-0e77e3fd956c"
      },
      "execution_count": null,
      "outputs": [
        {
          "output_type": "stream",
          "name": "stdout",
          "text": [
            "['v', 'a', 'c', 'o', 'n', 's', 'u', 'e', 'l', 'o', 'm', 'o', 'r', 'a', 'i', 'l', 'a', 'l', 'o', 'p', 'e', 'z']\n",
            "['a', 'c', 'o', 'n', 's', 'u', 'e', 'l', 'o', 'm', 'o', 'r', 'a', 'i', 'l', 'a', 'l', 'o', 'p', 'e', 'z']\n",
            "['c', 'o', 'n', 's', 'u', 'e', 'l', 'o', 'm', 'o', 'r', 'a', 'i', 'l', 'a', 'l', 'o', 'p', 'e', 'z']\n",
            "['o', 'n', 's', 'u', 'e', 'l', 'o', 'm', 'o', 'r', 'a', 'i', 'l', 'a', 'l', 'o', 'p', 'e', 'z']\n",
            "['n', 's', 'u', 'e', 'l', 'o', 'm', 'o', 'r', 'a', 'i', 'l', 'a', 'l', 'o', 'p', 'e', 'z']\n",
            "['s', 'u', 'e', 'l', 'o', 'm', 'o', 'r', 'a', 'i', 'l', 'a', 'l', 'o', 'p', 'e', 'z']\n",
            "['u', 'e', 'l', 'o', 'm', 'o', 'r', 'a', 'i', 'l', 'a', 'l', 'o', 'p', 'e', 'z']\n",
            "['e', 'l', 'o', 'm', 'o', 'r', 'a', 'i', 'l', 'a', 'l', 'o', 'p', 'e', 'z']\n",
            "['l', 'o', 'm', 'o', 'r', 'a', 'i', 'l', 'a', 'l', 'o', 'p', 'e', 'z']\n",
            "['o', 'm', 'o', 'r', 'a', 'i', 'l', 'a', 'l', 'o', 'p', 'e', 'z']\n",
            "['m', 'o', 'r', 'a', 'i', 'l', 'a', 'l', 'o', 'p', 'e', 'z']\n",
            "['o', 'r', 'a', 'i', 'l', 'a', 'l', 'o', 'p', 'e', 'z']\n",
            "['r', 'a', 'i', 'l', 'a', 'l', 'o', 'p', 'e', 'z']\n",
            "['a', 'i', 'l', 'a', 'l', 'o', 'p', 'e', 'z']\n",
            "['i', 'l', 'a', 'l', 'o', 'p', 'e', 'z']\n",
            "['l', 'a', 'l', 'o', 'p', 'e', 'z']\n",
            "['a', 'l', 'o', 'p', 'e', 'z']\n",
            "['l', 'o', 'p', 'e', 'z']\n",
            "['o', 'p', 'e', 'z']\n",
            "['p', 'e', 'z']\n",
            "['e', 'z']\n",
            "['z']\n",
            "[]\n"
          ]
        }
      ]
    }
  ]
}